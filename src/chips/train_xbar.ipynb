{
 "cells": [
  {
   "cell_type": "code",
   "execution_count": 1,
   "metadata": {},
   "outputs": [
    {
     "name": "stderr",
     "output_type": "stream",
     "text": [
      "c:\\Users\\rebal\\capstone-project\\capstone\\lib\\site-packages\\tqdm\\auto.py:21: TqdmWarning: IProgress not found. Please update jupyter and ipywidgets. See https://ipywidgets.readthedocs.io/en/stable/user_install.html\n",
      "  from .autonotebook import tqdm as notebook_tqdm\n"
     ]
    }
   ],
   "source": [
    "import numpy as np\n",
    "import json\n",
    "import gzip\n",
    "from scipy.sparse import coo_matrix\n",
    "import pandas as pd\n",
    "import pickle\n",
    "\n",
    "import torch\n",
    "import torch.nn as nn\n",
    "import torch.nn.functional as F"
   ]
  },
  {
   "cell_type": "code",
   "execution_count": null,
   "metadata": {},
   "outputs": [],
   "source": [
    "class DEHNNLayer(nn.Module):\n",
    "    def __init__(self, node_in_features, edge_in_features):\n",
    "        super(DEHNNLayer, self).__init__()\n",
    "        self.node_mlp1 = nn.Linear(edge_in_features, edge_in_features)\n",
    "        self.edge_mlp2 = nn.Linear(node_in_features, node_in_features)\n",
    "        self.edge_mlp3 = nn.Linear(2 * node_in_features, 2 * node_in_features)\n",
    "\n",
    "        self.node_to_virtual_mlp = nn.Linear(node_in_features, node_in_features)\n",
    "        self.virtual_to_higher_virtual_mlp = nn.Linear(node_in_features, edge_in_features)\n",
    "        self.higher_virtual_to_virtual_mlp = nn.Linear(edge_in_features, edge_in_features)\n",
    "        self.virtual_to_node_mlp = nn.Linear(edge_in_features, edge_in_features)\n",
    "\n",
    "        # Learnable defaults for missing driver or sink\n",
    "        self.default_driver = nn.Parameter(torch.zeros(node_in_features))\n",
    "        self.default_sink_agg = nn.Parameter(torch.zeros(node_in_features))\n",
    "        self.default_edge_agg = nn.Parameter(torch.zeros(edge_in_features))\n",
    "        self.default_virtual_node = nn.Parameter(torch.zeros(node_in_features))\n",
    "        self.higher_virtual_node = nn.Parameter(torch.zeros(node_in_features))\n",
    "\n",
    "    def forward(self, node_features, edge_features, hypergraph):\n",
    "        # Node update\n",
    "        updated_node_features = {}\n",
    "        for node in hypergraph.nodes:\n",
    "            incident_edges = hypergraph.get_incident_edges(node)\n",
    "            if incident_edges:\n",
    "                agg_features = torch.sum(torch.stack([self.node_mlp1(edge_features[edge]) for edge in incident_edges]), dim=0)\n",
    "            else:\n",
    "                agg_features = self.default_edge_agg  # Fallback for isolated nodes\n",
    "            updated_node_features[node] = agg_features\n",
    "\n",
    "        # Edge update\n",
    "        updated_edge_features = {}\n",
    "        for edge in hypergraph.edges:\n",
    "            driver, sinks = hypergraph.get_driver_and_sinks(edge)\n",
    "\n",
    "            # Handle missing driver\n",
    "            driver_feature = node_features[driver] if driver is not None else self.default_driver\n",
    "\n",
    "            # Handle missing sinks\n",
    "            if sinks:\n",
    "                sink_agg = torch.sum(torch.stack([self.edge_mlp2(node_features[sink]) for sink in sinks]), dim=0)\n",
    "            else:\n",
    "                sink_agg = self.default_sink_agg\n",
    "\n",
    "            # Concatenate and update\n",
    "            concatenated = torch.cat([driver_feature, sink_agg])\n",
    "            updated_edge_features[edge] = self.edge_mlp3(concatenated)\n",
    "        \n",
    "        virtual_node_agg = {}\n",
    "        for virtual_node in range(hypergraph.num_virtual_nodes):\n",
    "            assigned_nodes = [node for node in hypergraph.nodes if hypergraph.get_virtual_node(node) == virtual_node]\n",
    "            if assigned_nodes:\n",
    "                agg_features = torch.sum(torch.stack([self.node_to_virtual_mlp(node_features[node]) for node in assigned_nodes]), dim=0)\n",
    "            else:\n",
    "                agg_features = self.default_virtual_node\n",
    "            virtual_node_agg[virtual_node] = agg_features\n",
    "\n",
    "        higher_virtual_feature = torch.sum(\n",
    "            torch.stack([self.virtual_to_higher_virtual_mlp(virtual_node_agg[vn]) for vn in virtual_node_agg]), dim=0\n",
    "        )\n",
    "\n",
    "        propagated_virtual_node_features = {}\n",
    "        for virtual_node in range(hypergraph.num_virtual_nodes):\n",
    "            propagated_virtual_node_features[virtual_node] = self.higher_virtual_to_virtual_mlp(higher_virtual_feature)\n",
    "\n",
    "        for node in hypergraph.nodes:\n",
    "            virtual_node = hypergraph.get_virtual_node(node)\n",
    "            propagated_feature = self.virtual_to_node_mlp(propagated_virtual_node_features[virtual_node])\n",
    "            updated_node_features[node] += propagated_feature  # Add propagated feature to node\n",
    "\n",
    "        return updated_node_features, updated_edge_features\n",
    "\n",
    "\n",
    "class DEHNN(nn.Module):\n",
    "    def __init__(self, num_layers, node_in_features, edge_in_features):\n",
    "        super(DEHNN, self).__init__()\n",
    "        self.num_layers = num_layers\n",
    "        self.layers = nn.ModuleList()\n",
    "        \n",
    "        # Create multiple layers for DEHNN\n",
    "        for i in range(num_layers):\n",
    "            self.layers.append(DEHNNLayer(node_in_features, edge_in_features))\n",
    "            node_in_features, edge_in_features = edge_in_features, node_in_features\n",
    "            edge_in_features *= 2\n",
    "\n",
    "        edge_in_features  = int(edge_in_features / 2)\n",
    "        # Final output layer for node classification (binary classification for congestion)\n",
    "        self.output_layer = nn.Linear(node_in_features, 2)  # Output 2 classes: congested or not congested\n",
    "\n",
    "    def forward(self, node_features, edge_features, hypergraph):\n",
    "        # Pass through each layer\n",
    "        for layer in self.layers:\n",
    "            node_features, edge_features = layer(node_features, edge_features, hypergraph)\n",
    "        \n",
    "        # Output prediction for nodes\n",
    "        final_node_features = torch.stack([node_features[node] for node in hypergraph.nodes], dim=0)\n",
    "        output = self.output_layer(final_node_features)\n",
    "        output = F.softmax(output, dim=1)\n",
    "        return output\n",
    "\n",
    "\n",
    "# Example hypergraph representation class (simplified)\n",
    "class Hypergraph:\n",
    "    def __init__(self, nodes, edges, driver_sink_map, node_to_virtual_map, num_virtual_nodes):\n",
    "        self.nodes = nodes\n",
    "        self.edges = edges\n",
    "        self.driver_sink_map = driver_sink_map\n",
    "        self.node_to_virtual_map = node_to_virtual_map\n",
    "        self.num_virtual_nodes = num_virtual_nodes\n",
    "\n",
    "    def get_incident_edges(self, node):\n",
    "        return [edge for edge in self.edges if node in self.driver_sink_map[edge][1] or node == self.driver_sink_map[edge][0]]\n",
    "\n",
    "    def get_driver_and_sinks(self, edge):\n",
    "        return self.driver_sink_map[edge]\n",
    "    \n",
    "    def get_virtual_node(self, node):\n",
    "        return self.node_to_virtual_map[node]"
   ]
  },
  {
   "cell_type": "code",
   "execution_count": 3,
   "metadata": {},
   "outputs": [],
   "source": [
    "device = torch.device('cuda' if torch.cuda.is_available() else 'cpu')\n",
    "\n",
    "clean_data_dir = '../../data/chips/clean_data/'\n",
    "\n",
    "with open(clean_data_dir + '1.driver_sink_map.pkl', 'rb') as f:\n",
    "    driver_sink_map = pickle.load(f)\n",
    "\n",
    "with open(clean_data_dir + '1.node_features.pkl', 'rb') as f:\n",
    "    node_features = pickle.load(f)\n",
    "\n",
    "with open(clean_data_dir + '1.net_features.pkl', 'rb') as f:\n",
    "    edge_features = pickle.load(f)\n",
    "\n",
    "with open(clean_data_dir + '1.congestion.pkl', 'rb') as f:\n",
    "    congestion = pickle.load(f)\n",
    "\n",
    "partition = np.load(clean_data_dir + '1.partition.npy')\n",
    "\n",
    "node_features = {k: torch.tensor(v).float().to(device) for k, v in node_features.items()}\n",
    "edge_features = {k: torch.tensor(v).float().to(device) for k, v in edge_features.items()}\n",
    "\n",
    "nodes = list(range(len(node_features)))\n",
    "edges = list(range(len(edge_features)))\n",
    "hypergraph = Hypergraph(nodes, edges, driver_sink_map, partition, 2)"
   ]
  },
  {
   "cell_type": "code",
   "execution_count": 4,
   "metadata": {},
   "outputs": [
    {
     "name": "stdout",
     "output_type": "stream",
     "text": [
      "Epoch [1/10], Loss: 0.4112\n",
      "Epoch [2/10], Loss: 0.4112\n",
      "Epoch [3/10], Loss: 0.4112\n",
      "Epoch [4/10], Loss: 0.4112\n",
      "Epoch [5/10], Loss: 0.4112\n",
      "Epoch [6/10], Loss: 0.4112\n",
      "Epoch [7/10], Loss: 0.4112\n",
      "Epoch [8/10], Loss: 0.4112\n",
      "Epoch [9/10], Loss: 0.4112\n",
      "Epoch [10/10], Loss: 0.4112\n"
     ]
    }
   ],
   "source": [
    "# Initialize DE-HNN model\n",
    "model = DEHNN(num_layers=2, node_in_features=14, edge_in_features=1).to(device)\n",
    "epochs = 10\n",
    "\n",
    "# Optimizer and Loss Function\n",
    "optimizer = torch.optim.Adam(model.parameters(), lr=0.001)\n",
    "criterion = nn.CrossEntropyLoss()  # Cross-entropy loss for classification\n",
    "\n",
    "# Training Loop (example)\n",
    "model.train()\n",
    "for epoch in range(epochs):\n",
    "    optimizer.zero_grad()\n",
    "    \n",
    "    # Forward pass\n",
    "    output = model(node_features, edge_features, hypergraph)\n",
    "    # print(output)\n",
    "    \n",
    "    # Dummy target for illustration (binary labels for each node: 0 for not congested, 1 for congested)\n",
    "    target = torch.tensor(list(congestion.values())).to(device)\n",
    "    \n",
    "    # print(target)\n",
    "    # Compute loss\n",
    "    loss = criterion(output, target)\n",
    "    \n",
    "    # Backward pass\n",
    "    loss.backward()\n",
    "    optimizer.step()\n",
    "    \n",
    "    # Print loss\n",
    "    # if (epoch + 1) % 10 == 0:\n",
    "    #     print(f'Epoch [{epoch+1}/100], Loss: {loss.item():.4f}')\n",
    "    print(f'Epoch [{epoch+1}/{epochs}], Loss: {loss.item():.4f}')"
   ]
  },
  {
   "cell_type": "code",
   "execution_count": 5,
   "metadata": {},
   "outputs": [
    {
     "data": {
      "text/plain": [
       "ModuleList(\n",
       "  (0): DEHNNLayer(\n",
       "    (node_mlp1): Linear(in_features=1, out_features=1, bias=True)\n",
       "    (edge_mlp2): Linear(in_features=14, out_features=14, bias=True)\n",
       "    (edge_mlp3): Linear(in_features=28, out_features=28, bias=True)\n",
       "    (node_to_virtual_mlp): Linear(in_features=14, out_features=14, bias=True)\n",
       "    (virtual_to_higher_virtual_mlp): Linear(in_features=14, out_features=1, bias=True)\n",
       "    (higher_virtual_to_virtual_mlp): Linear(in_features=1, out_features=1, bias=True)\n",
       "    (virtual_to_node_mlp): Linear(in_features=1, out_features=1, bias=True)\n",
       "  )\n",
       "  (1): DEHNNLayer(\n",
       "    (node_mlp1): Linear(in_features=28, out_features=28, bias=True)\n",
       "    (edge_mlp2): Linear(in_features=1, out_features=1, bias=True)\n",
       "    (edge_mlp3): Linear(in_features=2, out_features=2, bias=True)\n",
       "    (node_to_virtual_mlp): Linear(in_features=1, out_features=1, bias=True)\n",
       "    (virtual_to_higher_virtual_mlp): Linear(in_features=1, out_features=28, bias=True)\n",
       "    (higher_virtual_to_virtual_mlp): Linear(in_features=28, out_features=28, bias=True)\n",
       "    (virtual_to_node_mlp): Linear(in_features=28, out_features=28, bias=True)\n",
       "  )\n",
       ")"
      ]
     },
     "execution_count": 5,
     "metadata": {},
     "output_type": "execute_result"
    }
   ],
   "source": [
    "model.layers"
   ]
  },
  {
   "cell_type": "code",
   "execution_count": 35,
   "metadata": {},
   "outputs": [],
   "source": [
    "test_output = model(node_features, edge_features, hypergraph)"
   ]
  },
  {
   "cell_type": "code",
   "execution_count": 36,
   "metadata": {},
   "outputs": [
    {
     "data": {
      "text/plain": [
       "array([0, 0, 0, ..., 0, 0, 0], dtype=int64)"
      ]
     },
     "execution_count": 36,
     "metadata": {},
     "output_type": "execute_result"
    }
   ],
   "source": [
    "out = test_output.detach().cpu().numpy()\n",
    "out = np.array([np.argmax(i) for i in out])\n",
    "out"
   ]
  },
  {
   "cell_type": "code",
   "execution_count": 37,
   "metadata": {},
   "outputs": [
    {
     "data": {
      "text/plain": [
       "0.9020748987854251"
      ]
     },
     "execution_count": 37,
     "metadata": {},
     "output_type": "execute_result"
    }
   ],
   "source": [
    "np.mean(np.array(list(congestion.values())) == out)"
   ]
  },
  {
   "cell_type": "code",
   "execution_count": null,
   "metadata": {},
   "outputs": [
    {
     "data": {
      "text/plain": [
       "0.0979251012145749"
      ]
     },
     "execution_count": 39,
     "metadata": {},
     "output_type": "execute_result"
    }
   ],
   "source": [
    "np.array(list(congestion.values())).mean()"
   ]
  },
  {
   "cell_type": "code",
   "execution_count": null,
   "metadata": {},
   "outputs": [],
   "source": [
    "out"
   ]
  }
 ],
 "metadata": {
  "kernelspec": {
   "display_name": "capstone",
   "language": "python",
   "name": "python3"
  },
  "language_info": {
   "codemirror_mode": {
    "name": "ipython",
    "version": 3
   },
   "file_extension": ".py",
   "mimetype": "text/x-python",
   "name": "python",
   "nbconvert_exporter": "python",
   "pygments_lexer": "ipython3",
   "version": "3.8.8"
  }
 },
 "nbformat": 4,
 "nbformat_minor": 2
}
