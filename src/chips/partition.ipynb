{
 "cells": [
  {
   "cell_type": "code",
   "execution_count": 1,
   "metadata": {},
   "outputs": [],
   "source": [
    "import numpy as np\n",
    "import pymetis\n",
    "import pickle"
   ]
  },
  {
   "cell_type": "code",
   "execution_count": 2,
   "metadata": {},
   "outputs": [],
   "source": [
    "data_dir = '../../data/chips/NCSU-DigIC-GraphData-2023-07-25/xbar/'\n",
    "clean_data_dir = '../../data/chips/clean_data/'\n",
    "n_variants = 13\n",
    "\n",
    "for i in range(1, n_variants+1):\n",
    "    connection_data = np.load(f'{data_dir}{i}/xbar_connectivity.npz')\n",
    "\n",
    "    # Number of nodes and hyperedges\n",
    "    num_nodes = max(connection_data['row']) + 1\n",
    "    num_nets = max(connection_data['col']) + 1\n",
    "    num_partitions = int(np.sqrt(num_nodes))\n",
    "\n",
    "    # Step 1: Create an adjacency list for Metis\n",
    "    # Convert hypergraph to bipartite graph representation\n",
    "    adj_list = [[] for _ in range(num_nodes + num_nets)]\n",
    "    for node, net in zip(connection_data['row'], connection_data['col']):\n",
    "        adj_list[node].append(num_nodes + net)  # Connect node to net\n",
    "        adj_list[num_nodes + net].append(node)  # Connect net to node\n",
    "\n",
    "    # Step 2: Run Metis partitioning\n",
    "    cuts, membership = pymetis.part_graph(num_partitions, adjacency=adj_list)\n",
    "    # dct = {'partition': np.array(membership[:num_nodes])}\n",
    "    arr = np.array(membership[:num_nodes])\n",
    "\n",
    "    # with open(f'{clean_data_dir}{i}.partition.pkl', 'wb') as f:\n",
    "    #     pickle.dump(dct, f)\n",
    "    np.save(f'{clean_data_dir}{i}.partition.npy', arr)"
   ]
  }
 ],
 "metadata": {
  "kernelspec": {
   "display_name": "Python 3",
   "language": "python",
   "name": "python3"
  },
  "language_info": {
   "codemirror_mode": {
    "name": "ipython",
    "version": 3
   },
   "file_extension": ".py",
   "mimetype": "text/x-python",
   "name": "python",
   "nbconvert_exporter": "python",
   "pygments_lexer": "ipython3",
   "version": "3.10.12"
  }
 },
 "nbformat": 4,
 "nbformat_minor": 2
}
