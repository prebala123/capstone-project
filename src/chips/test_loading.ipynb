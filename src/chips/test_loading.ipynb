{
 "cells": [
  {
   "cell_type": "code",
   "execution_count": 1,
   "metadata": {},
   "outputs": [
    {
     "name": "stderr",
     "output_type": "stream",
     "text": [
      "c:\\Users\\rebal\\capstone-project\\capstone\\lib\\site-packages\\tqdm\\auto.py:21: TqdmWarning: IProgress not found. Please update jupyter and ipywidgets. See https://ipywidgets.readthedocs.io/en/stable/user_install.html\n",
      "  from .autonotebook import tqdm as notebook_tqdm\n"
     ]
    }
   ],
   "source": [
    "import numpy as np\n",
    "import json\n",
    "import gzip\n",
    "from scipy.sparse import coo_matrix\n",
    "from scipy.stats import binned_statistic_2d\n",
    "import matplotlib.pyplot as plt\n",
    "from matplotlib.patches import Rectangle\n",
    "import pandas as pd\n",
    "from collections import defaultdict\n",
    "\n",
    "import torch\n",
    "import torch.nn.functional as F\n",
    "from numpy.linalg import eigvals\n",
    "from torch_geometric.utils import (get_laplacian, to_scipy_sparse_matrix, to_undirected, to_dense_adj)\n",
    "from torch_geometric.utils.num_nodes import maybe_num_nodes\n",
    "# from torch_scatter import scatter_add\n",
    "\n",
    "# Scipy eigendecomposition\n",
    "from scipy.sparse.linalg import eigsh\n",
    "from scipy.sparse.linalg import eigs"
   ]
  },
  {
   "cell_type": "code",
   "execution_count": 2,
   "metadata": {},
   "outputs": [
    {
     "name": "stdout",
     "output_type": "stream",
     "text": [
      "min cell width: 256\n",
      "max cell width: 397440\n",
      "mean cell width: 14540.25\n",
      "std cell width: 63888.21937522989\n",
      "\n",
      "min cell height: 1536\n",
      "max cell height: 503056\n",
      "mean cell height: 16009.0\n",
      "std cell height: 68982.92421027106\n",
      "Done processing cell sizes\n",
      "Done processing edge types dict\n"
     ]
    }
   ],
   "source": [
    "data_dir = '../../data/chips/NCSU-DigIC-GraphData-2023-07-25/'\n",
    "with gzip.open(data_dir + 'cells.json.gz', 'r') as f:\n",
    "    cell_data = json.load(f)\n",
    "\n",
    "widths = []\n",
    "heights = []\n",
    "for idx in range(len(cell_data)):\n",
    "    width = cell_data[idx]['width']\n",
    "    height = cell_data[idx]['height']\n",
    "    widths.append(width)\n",
    "    heights.append(height)\n",
    "\n",
    "min_cell_width = np.min(widths)\n",
    "max_cell_width = np.max(widths)\n",
    "min_cell_height = np.min(heights)\n",
    "max_cell_height = np.max(heights)\n",
    "\n",
    "print('min cell width:', min_cell_width)\n",
    "print('max cell width:', max_cell_width)\n",
    "print('mean cell width:', np.mean(widths))\n",
    "print('std cell width:', np.std(widths))\n",
    "print()\n",
    "print('min cell height:', min_cell_height)\n",
    "print('max cell height:', max_cell_height)\n",
    "print('mean cell height:', np.mean(heights))\n",
    "print('std cell height:', np.std(heights))\n",
    "\n",
    "widths = (widths - min_cell_width) / (max_cell_width - min_cell_width)\n",
    "heights = (heights - min_cell_height) / (max_cell_height - min_cell_height)\n",
    "print('Done processing cell sizes')\n",
    "\n",
    "cell_to_edge_dict = {item['id']:{inner_item['id']: inner_item['dir'] for inner_item in item['terms']} for item in cell_data}\n",
    "print('Done processing edge types dict')"
   ]
  },
  {
   "cell_type": "code",
   "execution_count": 3,
   "metadata": {},
   "outputs": [],
   "source": [
    "data_dir = '../../data/chips/NCSU-DigIC-GraphData-2023-07-25/counter/1/'\n",
    "with gzip.open(data_dir + 'counter.json.gz', 'r') as fin:\n",
    "    instances_nets_data = json.load(fin)\n",
    "\n",
    "instances = instances_nets_data['instances']\n",
    "nets = instances_nets_data['nets']\n",
    "\n",
    "inst_to_cell = {item['id']:item['cell'] for item in instances}"
   ]
  },
  {
   "cell_type": "code",
   "execution_count": 4,
   "metadata": {},
   "outputs": [
    {
     "name": "stdout",
     "output_type": "stream",
     "text": [
      "Number of instances: 23\n",
      "Number of nets: 28\n",
      "min xloc: 512\n",
      "max xloc: 7552\n",
      "min yloc: 4608\n",
      "max yloc: 7680\n"
     ]
    }
   ],
   "source": [
    "num_instances = len(instances)\n",
    "num_nets = len(nets)\n",
    "\n",
    "print('Number of instances:', num_instances)\n",
    "print('Number of nets:', num_nets)\n",
    "\n",
    "xloc_list = [instances[idx]['xloc'] for idx in range(num_instances)]\n",
    "yloc_list = [instances[idx]['yloc'] for idx in range(num_instances)]\n",
    "cell = [instances[idx]['cell'] for idx in range(num_instances)]\n",
    "cell_width = [widths[cell[idx]] for idx in range(num_instances)]\n",
    "cell_height = [heights[cell[idx]] for idx in range(num_instances)]\n",
    "orient = [instances[idx]['orient'] for idx in range(num_instances)]\n",
    "\n",
    "x_min = min(xloc_list)\n",
    "x_max = max(xloc_list)\n",
    "y_min = min(yloc_list)\n",
    "y_max = max(yloc_list)\n",
    "\n",
    "print('min xloc:', x_min)\n",
    "print('max xloc:', x_max)\n",
    "print('min yloc:', y_min)\n",
    "print('max yloc:', y_max)"
   ]
  },
  {
   "cell_type": "code",
   "execution_count": 5,
   "metadata": {},
   "outputs": [],
   "source": [
    "X = np.expand_dims(np.array(xloc_list), axis = 1)\n",
    "Y = np.expand_dims(np.array(yloc_list), axis = 1)\n",
    "X = (X - x_min) / (x_max - x_min)\n",
    "Y = (Y - y_min) / (y_max - y_min)\n",
    "\n",
    "cell = np.expand_dims(np.array(cell), axis = 1)\n",
    "cell_width = np.expand_dims(np.array(cell_width), axis = 1)\n",
    "cell_height = np.expand_dims(np.array(cell_height), axis = 1)\n",
    "orient = np.expand_dims(np.array(orient), axis = 1)\n",
    "\n",
    "instance_features = np.concatenate((X, Y, cell, cell_width, cell_height, orient), axis = 1)\n",
    "\n",
    "dictionary = {\n",
    "    'num_instances': num_instances,\n",
    "    'num_nets': num_nets,\n",
    "    'x_min': x_min,\n",
    "    'x_max': x_max,\n",
    "    'y_min': y_min,\n",
    "    'y_max': y_max,\n",
    "    'min_cell_width': min_cell_width,\n",
    "    'max_cell_width': max_cell_width,\n",
    "    'min_cell_height': min_cell_height,\n",
    "    'max_cell_height': max_cell_height,\n",
    "    'instance_features': instance_features,\n",
    "#     'sample_name': sample_name,\n",
    "#     'folder': sample_names[0],\n",
    "#     'design': design\n",
    "}"
   ]
  },
  {
   "cell_type": "code",
   "execution_count": 6,
   "metadata": {},
   "outputs": [],
   "source": [
    "connection_data = np.load(data_dir + 'counter_connectivity.npz')\n",
    "dirs = []\n",
    "edge_t = connection_data['data']\n",
    "instance_idx = connection_data['row']\n",
    "\n",
    "for idx in range(len(instance_idx)):\n",
    "    inst = instance_idx[idx]\n",
    "    cell = inst_to_cell[inst]\n",
    "    edge_dict = cell_to_edge_dict[cell]\n",
    "    t = edge_t[idx]\n",
    "    direction = edge_dict[t]\n",
    "    dirs.append(direction)\n",
    "\n",
    "dirs = np.array(dirs)"
   ]
  },
  {
   "cell_type": "code",
   "execution_count": 7,
   "metadata": {},
   "outputs": [
    {
     "data": {
      "text/plain": [
       "array([ 0,  7,  9, 10, 13, 13,  6, 11,  5,  1,  6, 19,  1,  2,  3,  0,  2,\n",
       "        8,  4, 18, 15, 14,  5, 21,  2, 22,  3, 14,  1, 12,  0,  1,  2,  3,\n",
       "        0,  7,  6,  5,  6,  9,  4,  9,  8, 13, 11,  3,  9,  2,  7,  1, 10,\n",
       "       12, 13, 16, 15, 20, 16, 18, 17,  3, 10,  8,  4, 20, 19, 21, 17, 22],\n",
       "      dtype=int64)"
      ]
     },
     "execution_count": 7,
     "metadata": {},
     "output_type": "execute_result"
    }
   ],
   "source": [
    "connection_data['row']"
   ]
  },
  {
   "cell_type": "code",
   "execution_count": 8,
   "metadata": {},
   "outputs": [
    {
     "data": {
      "text/plain": [
       "array([ 0,  1,  1,  1,  1,  2,  3,  3,  3,  4,  5,  5,  6,  6,  6,  6,  7,\n",
       "        7,  7,  7,  8,  8,  9,  9,  9, 10, 10, 11, 11, 12, 12, 13, 13, 13,\n",
       "       13, 14, 14, 15, 15, 15, 15, 16, 16, 17, 17, 18, 18, 19, 19, 20, 20,\n",
       "       21, 21, 22, 22, 23, 23, 24, 24, 25, 25, 25, 25, 25, 26, 26, 27, 27],\n",
       "      dtype=int64)"
      ]
     },
     "execution_count": 8,
     "metadata": {},
     "output_type": "execute_result"
    }
   ],
   "source": [
    "connection_data['col']"
   ]
  },
  {
   "cell_type": "code",
   "execution_count": 9,
   "metadata": {},
   "outputs": [
    {
     "data": {
      "text/plain": [
       "array([0, 0, 0, 0, 0, 0, 0, 0, 1, 0, 0, 1, 0, 0, 0, 0, 0, 0, 0, 1, 0, 1,\n",
       "       0, 0, 1, 0, 1, 0, 1, 1, 0, 0, 0, 0, 1, 0, 1, 0, 0, 0, 1, 0, 1, 0,\n",
       "       1, 0, 1, 0, 1, 0, 1, 0, 1, 0, 1, 0, 1, 0, 1, 0, 0, 0, 0, 1, 0, 1,\n",
       "       0, 1])"
      ]
     },
     "execution_count": 9,
     "metadata": {},
     "output_type": "execute_result"
    }
   ],
   "source": [
    "dirs"
   ]
  },
  {
   "cell_type": "code",
   "execution_count": 10,
   "metadata": {},
   "outputs": [],
   "source": [
    "driver_sink_map = defaultdict(lambda: (None, []))\n",
    "\n",
    "# Extract unique nodes and edges\n",
    "nodes = list(set(connection_data['row']))\n",
    "edges = list(set(connection_data['col']))\n",
    "\n",
    "# Populate driver_sink_map\n",
    "for node, edge, direction in zip(connection_data['row'], connection_data['col'], dirs):\n",
    "    if direction == 1:  # Driver\n",
    "        driver_sink_map[edge] = (node, driver_sink_map[edge][1])\n",
    "    elif direction == 0:  # Sink\n",
    "        driver_sink_map[edge][1].append(node)\n",
    "\n",
    "# Convert to standard dictionary\n",
    "driver_sink_map = dict(driver_sink_map)"
   ]
  },
  {
   "cell_type": "code",
   "execution_count": 11,
   "metadata": {},
   "outputs": [
    {
     "data": {
      "text/plain": [
       "{0: (None, [0]),\n",
       " 1: (None, [7, 9, 10, 13]),\n",
       " 2: (None, [13]),\n",
       " 3: (5, [6, 11]),\n",
       " 4: (None, [1]),\n",
       " 5: (19, [6]),\n",
       " 6: (None, [1, 2, 3, 0]),\n",
       " 7: (18, [2, 8, 4]),\n",
       " 8: (14, [15]),\n",
       " 9: (2, [5, 21]),\n",
       " 10: (3, [22]),\n",
       " 11: (1, [14]),\n",
       " 12: (12, [0]),\n",
       " 13: (0, [1, 2, 3]),\n",
       " 14: (6, [7]),\n",
       " 15: (4, [5, 6, 9]),\n",
       " 16: (8, [9]),\n",
       " 17: (11, [13]),\n",
       " 18: (9, [3]),\n",
       " 19: (7, [2]),\n",
       " 20: (10, [1]),\n",
       " 21: (13, [12]),\n",
       " 22: (15, [16]),\n",
       " 23: (16, [20]),\n",
       " 24: (17, [18]),\n",
       " 25: (20, [3, 10, 8, 4]),\n",
       " 26: (21, [19]),\n",
       " 27: (22, [17])}"
      ]
     },
     "execution_count": 11,
     "metadata": {},
     "output_type": "execute_result"
    }
   ],
   "source": [
    "driver_sink_map"
   ]
  },
  {
   "cell_type": "code",
   "execution_count": 12,
   "metadata": {},
   "outputs": [],
   "source": [
    "net_features = {}\n",
    "for k, v in driver_sink_map.items():\n",
    "    if v[0]:\n",
    "        net_features[k] = [len(v[1]) + 1]\n",
    "    else:\n",
    "        net_features[k] = [len(v[1])]"
   ]
  },
  {
   "cell_type": "code",
   "execution_count": 13,
   "metadata": {},
   "outputs": [
    {
     "data": {
      "text/plain": [
       "{0: [1],\n",
       " 1: [4],\n",
       " 2: [1],\n",
       " 3: [3],\n",
       " 4: [1],\n",
       " 5: [2],\n",
       " 6: [4],\n",
       " 7: [4],\n",
       " 8: [2],\n",
       " 9: [3],\n",
       " 10: [2],\n",
       " 11: [2],\n",
       " 12: [2],\n",
       " 13: [3],\n",
       " 14: [2],\n",
       " 15: [4],\n",
       " 16: [2],\n",
       " 17: [2],\n",
       " 18: [2],\n",
       " 19: [2],\n",
       " 20: [2],\n",
       " 21: [2],\n",
       " 22: [2],\n",
       " 23: [2],\n",
       " 24: [2],\n",
       " 25: [5],\n",
       " 26: [2],\n",
       " 27: [2]}"
      ]
     },
     "execution_count": 13,
     "metadata": {},
     "output_type": "execute_result"
    }
   ],
   "source": [
    "net_features"
   ]
  },
  {
   "cell_type": "code",
   "execution_count": 14,
   "metadata": {},
   "outputs": [
    {
     "data": {
      "text/plain": [
       "{0: array([2.30000000e+01, 4.83403158e-03, 0.00000000e+00, 0.00000000e+00]),\n",
       " 1: array([6.50000000e+01, 9.02352562e-03, 0.00000000e+00, 0.00000000e+00]),\n",
       " 2: array([6.50000000e+01, 9.02352562e-03, 0.00000000e+00, 6.00000000e+00]),\n",
       " 3: array([6.50000000e+01, 9.02352562e-03, 0.00000000e+00, 6.00000000e+00]),\n",
       " 4: array([5.80000000e+01, 1.28907509e-03, 0.00000000e+00, 6.00000000e+00]),\n",
       " 5: array([4.80000000e+01, 6.44537544e-04, 0.00000000e+00, 6.00000000e+00]),\n",
       " 6: array([7.00000000e+00, 1.28907509e-03, 0.00000000e+00, 6.00000000e+00]),\n",
       " 7: array([4.80000000e+01, 6.44537544e-04, 0.00000000e+00, 2.00000000e+00]),\n",
       " 8: array([4.20000000e+01, 6.44537544e-04, 0.00000000e+00, 4.00000000e+00]),\n",
       " 9: array([7.00000000e+00, 1.28907509e-03, 0.00000000e+00, 4.00000000e+00]),\n",
       " 10: array([4.80000000e+01, 6.44537544e-04, 0.00000000e+00, 2.00000000e+00]),\n",
       " 11: array([3.40000000e+01, 3.22268772e-04, 0.00000000e+00, 4.00000000e+00]),\n",
       " 12: array([3.40000000e+01, 3.22268772e-04, 0.00000000e+00, 0.00000000e+00]),\n",
       " 13: array([7.00000000e+00, 1.28907509e-03, 0.00000000e+00, 4.00000000e+00]),\n",
       " 14: array([1.70000000e+01, 9.66806316e-04, 0.00000000e+00, 6.00000000e+00]),\n",
       " 15: array([2.00000000e+01, 9.66806316e-04, 0.00000000e+00, 0.00000000e+00]),\n",
       " 16: array([1.70000000e+01, 9.66806316e-04, 0.00000000e+00, 0.00000000e+00]),\n",
       " 17: array([1.70000000e+01, 9.66806316e-04, 0.00000000e+00, 6.00000000e+00]),\n",
       " 18: array([2.00000000e+01, 9.66806316e-04, 0.00000000e+00, 0.00000000e+00]),\n",
       " 19: array([2.10000000e+01, 1.93361263e-03, 0.00000000e+00, 0.00000000e+00]),\n",
       " 20: array([1.70000000e+01, 9.66806316e-04, 0.00000000e+00, 0.00000000e+00]),\n",
       " 21: array([1.50000000e+01, 1.93361263e-03, 0.00000000e+00, 0.00000000e+00]),\n",
       " 22: array([1.70000000e+01, 9.66806316e-04, 0.00000000e+00, 0.00000000e+00])}"
      ]
     },
     "execution_count": 14,
     "metadata": {},
     "output_type": "execute_result"
    }
   ],
   "source": [
    "node_features = {}\n",
    "for i in range(num_instances):\n",
    "    node_features[i] = instance_features[i, 2:]\n",
    "node_features"
   ]
  },
  {
   "cell_type": "code",
   "execution_count": 15,
   "metadata": {},
   "outputs": [],
   "source": [
    "class Hypergraph:\n",
    "    def __init__(self, nodes, edges, driver_sink_map):\n",
    "        self.nodes = nodes\n",
    "        self.edges = edges\n",
    "        self.driver_sink_map = driver_sink_map\n",
    "\n",
    "    def get_incident_edges(self, node):\n",
    "        return [edge for edge in self.edges if node in self.driver_sink_map[edge][1] or node == self.driver_sink_map[edge][0]]\n",
    "\n",
    "    def get_driver_and_sinks(self, edge):\n",
    "        return self.driver_sink_map[edge]"
   ]
  },
  {
   "cell_type": "code",
   "execution_count": 16,
   "metadata": {},
   "outputs": [],
   "source": [
    "hypergraph = Hypergraph(nodes, edges, driver_sink_map)"
   ]
  },
  {
   "cell_type": "code",
   "execution_count": 17,
   "metadata": {},
   "outputs": [
    {
     "data": {
      "text/plain": [
       "[4, 6, 11, 13, 20]"
      ]
     },
     "execution_count": 17,
     "metadata": {},
     "output_type": "execute_result"
    }
   ],
   "source": [
    "hypergraph.get_incident_edges(1)"
   ]
  },
  {
   "cell_type": "code",
   "execution_count": 18,
   "metadata": {},
   "outputs": [
    {
     "name": "stdout",
     "output_type": "stream",
     "text": [
      "Congestion info: ../../data/chips/NCSU-DigIC-GraphData-2023-07-25/counter/1/counter_congestion.npz\n",
      "Number of layers: 13\n",
      "Layers: ['M1', 'MINT1', 'MINT2', 'MINT3', 'MINT4', 'MINT5', 'MSMG1', 'MSMG2', 'MSMG3', 'MSMG4', 'MSMG5', 'MG1', 'MG2']\n",
      "Layer M1 :\n",
      "    Number of demand > capacity: 0\n",
      "    Average capacity - demand: 2.5217391304347827\n",
      "    Average demand: 0.0\n",
      "    Average capacity: 2.5217391304347827\n",
      "Layer MINT1 :\n",
      "    Number of demand > capacity: 0\n",
      "    Average capacity - demand: 9.869565217391305\n",
      "    Average demand: 0.9130434782608695\n",
      "    Average capacity: 10.782608695652174\n",
      "Layer MINT2 :\n",
      "    Number of demand > capacity: 0\n",
      "    Average capacity - demand: 12.391304347826088\n",
      "    Average demand: 2.217391304347826\n",
      "    Average capacity: 14.608695652173912\n",
      "Layer MINT3 :\n",
      "    Number of demand > capacity: 0\n",
      "    Average capacity - demand: 11.565217391304348\n",
      "    Average demand: 0.391304347826087\n",
      "    Average capacity: 11.956521739130435\n",
      "Layer MINT4 :\n",
      "    Number of demand > capacity: 0\n",
      "    Average capacity - demand: 14.608695652173912\n",
      "    Average demand: 0.0\n",
      "    Average capacity: 14.608695652173912\n",
      "Layer MINT5 :\n",
      "    Number of demand > capacity: 0\n",
      "    Average capacity - demand: 11.956521739130435\n",
      "    Average demand: 0.0\n",
      "    Average capacity: 11.956521739130435\n",
      "Layer MSMG1 :\n",
      "    Number of demand > capacity: 0\n",
      "    Average capacity - demand: 7.6521739130434785\n",
      "    Average demand: 0.0\n",
      "    Average capacity: 7.6521739130434785\n",
      "Layer MSMG2 :\n",
      "    Number of demand > capacity: 0\n",
      "    Average capacity - demand: 0.0\n",
      "    Average demand: 0.0\n",
      "    Average capacity: 0.0\n",
      "Layer MSMG3 :\n",
      "    Number of demand > capacity: 0\n",
      "    Average capacity - demand: 0.0\n",
      "    Average demand: 0.0\n",
      "    Average capacity: 0.0\n",
      "Layer MSMG4 :\n",
      "    Number of demand > capacity: 0\n",
      "    Average capacity - demand: 0.0\n",
      "    Average demand: 0.0\n",
      "    Average capacity: 0.0\n",
      "Layer MSMG5 :\n",
      "    Number of demand > capacity: 0\n",
      "    Average capacity - demand: 0.0\n",
      "    Average demand: 0.0\n",
      "    Average capacity: 0.0\n",
      "Layer MG1 :\n",
      "    Number of demand > capacity: 0\n",
      "    Average capacity - demand: 0.0\n",
      "    Average demand: 0.0\n",
      "    Average capacity: 0.0\n",
      "Layer MG2 :\n",
      "    Number of demand > capacity: 0\n",
      "    Average capacity - demand: 0.0\n",
      "    Average demand: 0.0\n",
      "    Average capacity: 0.0\n"
     ]
    }
   ],
   "source": [
    "congestion_fn = data_dir + 'counter_congestion.npz'\n",
    "congestion_data = np.load(congestion_fn)\n",
    "print('Congestion info:', congestion_fn)\n",
    "\n",
    "congestion_data_demand = congestion_data['demand']\n",
    "congestion_data_capacity = congestion_data['capacity']\n",
    "\n",
    "num_layers = len(list(congestion_data['layerList']))\n",
    "print('Number of layers:', num_layers)\n",
    "print('Layers:', list(congestion_data['layerList']))\n",
    "\n",
    "ybl = congestion_data['yBoundaryList']\n",
    "xbl = congestion_data['xBoundaryList']\n",
    "\n",
    "all_demand = []\n",
    "all_capacity = []\n",
    "\n",
    "for layer in list(congestion_data['layerList']):\n",
    "    print('Layer', layer, ':')\n",
    "    lyr = list(congestion_data['layerList']).index(layer)\n",
    "\n",
    "    # Binned statistics 2D\n",
    "    ret = binned_statistic_2d(xloc_list, yloc_list, None, 'count', bins = [xbl[1:], ybl[1:]], expand_binnumbers = True)\n",
    "\n",
    "    i_list = np.array([ret.binnumber[0, idx] - 1 for idx in range(num_instances)])\n",
    "    j_list = np.array([ret.binnumber[1, idx] - 1 for idx in range(num_instances)])\n",
    "\n",
    "    # Get demand and capacity\n",
    "    demand_list = congestion_data_demand[lyr, i_list, j_list].flatten()\n",
    "    capacity_list = congestion_data_capacity[lyr, i_list, j_list].flatten()\n",
    "\n",
    "    demand_list = np.array(demand_list)\n",
    "    capacity_list = np.array(capacity_list)\n",
    "\n",
    "    all_demand.append(np.expand_dims(demand_list, axis = 1))\n",
    "    all_capacity.append(np.expand_dims(capacity_list, axis = 1))\n",
    "\n",
    "    average_demand = np.mean(demand_list)\n",
    "    average_capacity = np.mean(capacity_list)\n",
    "    average_diff = np.mean(capacity_list - demand_list)\n",
    "    count_congestions = np.sum(demand_list > capacity_list)\n",
    "\n",
    "    print('    Number of demand > capacity:', count_congestions)\n",
    "    print('    Average capacity - demand:', average_diff)\n",
    "    print('    Average demand:', average_demand)\n",
    "    print('    Average capacity:', average_capacity)\n",
    "\n",
    "demand = np.concatenate(all_demand, axis = 1)\n",
    "capacity = np.concatenate(all_capacity, axis = 1)\n",
    "\n",
    "dictionary = {\n",
    "    'demand': demand,\n",
    "    'capacity': capacity\n",
    "}"
   ]
  },
  {
   "cell_type": "code",
   "execution_count": 19,
   "metadata": {},
   "outputs": [],
   "source": [
    "d = demand.sum(axis=1)\n",
    "c = capacity.sum(axis=1)"
   ]
  },
  {
   "cell_type": "code",
   "execution_count": 20,
   "metadata": {},
   "outputs": [
    {
     "data": {
      "text/plain": [
       "array([0, 0, 0, 0, 0, 0, 0, 0, 0, 0, 0, 0, 0, 0, 0, 0, 0, 0, 0, 0, 0, 0,\n",
       "       0])"
      ]
     },
     "execution_count": 20,
     "metadata": {},
     "output_type": "execute_result"
    }
   ],
   "source": [
    "cong = (c * 0.9) - d\n",
    "out = (cong < 0).astype(int)\n",
    "out"
   ]
  },
  {
   "cell_type": "code",
   "execution_count": 21,
   "metadata": {},
   "outputs": [
    {
     "data": {
      "text/plain": [
       "{0: 0,\n",
       " 1: 0,\n",
       " 2: 0,\n",
       " 3: 0,\n",
       " 4: 0,\n",
       " 5: 0,\n",
       " 6: 0,\n",
       " 7: 0,\n",
       " 8: 0,\n",
       " 9: 0,\n",
       " 10: 0,\n",
       " 11: 0,\n",
       " 12: 0,\n",
       " 13: 0,\n",
       " 14: 0,\n",
       " 15: 0,\n",
       " 16: 0,\n",
       " 17: 0,\n",
       " 18: 0,\n",
       " 19: 0,\n",
       " 20: 0,\n",
       " 21: 0,\n",
       " 22: 0}"
      ]
     },
     "execution_count": 21,
     "metadata": {},
     "output_type": "execute_result"
    }
   ],
   "source": [
    "out = {}\n",
    "for i in range(len(node_features)):\n",
    "    out[i] = int(((c[i] * 0.9) - d[i]) < 0)\n",
    "\n",
    "out"
   ]
  },
  {
   "cell_type": "markdown",
   "metadata": {},
   "source": [
    "Node Features:\n",
    "\n",
    "1. cell type (done)\n",
    "2. cell width (done)\n",
    "3. cell height (done)\n",
    "4. orientation (done)\n",
    "5. cell degree\n",
    "6. \n",
    "7. \n",
    "8. persistence diagram\n",
    "9. degree distribution of neighbors\n",
    "10. \n",
    "11. \n",
    "12. \n",
    "13. \n",
    "14. \n",
    "15. \n",
    "16. \n",
    "17. \n",
    "18. eigenvector 1 (done)\n",
    "19. eigenvector 2\n",
    "20. eigenvector 3\n",
    "21. eigenvector 4\n",
    "22. eigenvector 5\n",
    "23. eigenvector 6\n",
    "24. eigenvector 7\n",
    "25. eigenvector 8\n",
    "26. eigenvector 9\n",
    "27. eigenvector 10\n",
    "\n",
    "Net Features:\n",
    "1. Degree\n"
   ]
  },
  {
   "cell_type": "code",
   "execution_count": 32,
   "metadata": {},
   "outputs": [
    {
     "data": {
      "text/plain": [
       "array([[1, 0, 0, 0, 0, 0, 3, 0, 0, 0, 0, 0, 2, 4, 0, 0, 0, 0, 0, 0, 0, 0,\n",
       "        0, 0, 0, 0, 0, 0],\n",
       "       [0, 0, 0, 0, 3, 0, 2, 0, 0, 0, 0, 6, 0, 5, 0, 0, 0, 0, 0, 0, 1, 0,\n",
       "        0, 0, 0, 0, 0, 0],\n",
       "       [0, 0, 0, 0, 0, 0, 2, 3, 0, 6, 0, 0, 0, 5, 0, 0, 0, 0, 0, 1, 0, 0,\n",
       "        0, 0, 0, 0, 0, 0],\n",
       "       [0, 0, 0, 0, 0, 0, 2, 0, 0, 0, 6, 0, 0, 5, 0, 0, 0, 0, 1, 0, 0, 0,\n",
       "        0, 0, 0, 3, 0, 0],\n",
       "       [0, 0, 0, 0, 0, 0, 0, 1, 0, 0, 0, 0, 0, 0, 0, 3, 0, 0, 0, 0, 0, 0,\n",
       "        0, 0, 0, 2, 0, 0],\n",
       "       [0, 0, 0, 3, 0, 0, 0, 0, 0, 1, 0, 0, 0, 0, 0, 2, 0, 0, 0, 0, 0, 0,\n",
       "        0, 0, 0, 0, 0, 0],\n",
       "       [0, 0, 0, 3, 0, 1, 0, 0, 0, 0, 0, 0, 0, 0, 4, 2, 0, 0, 0, 0, 0, 0,\n",
       "        0, 0, 0, 0, 0, 0],\n",
       "       [0, 1, 0, 0, 0, 0, 0, 0, 0, 0, 0, 0, 0, 0, 2, 0, 0, 0, 0, 3, 0, 0,\n",
       "        0, 0, 0, 0, 0, 0],\n",
       "       [0, 0, 0, 0, 0, 0, 0, 2, 0, 0, 0, 0, 0, 0, 0, 0, 3, 0, 0, 0, 0, 0,\n",
       "        0, 0, 0, 1, 0, 0],\n",
       "       [0, 3, 0, 0, 0, 0, 0, 0, 0, 0, 0, 0, 0, 0, 0, 2, 1, 0, 4, 0, 0, 0,\n",
       "        0, 0, 0, 0, 0, 0],\n",
       "       [0, 1, 0, 0, 0, 0, 0, 0, 0, 0, 0, 0, 0, 0, 0, 0, 0, 0, 0, 0, 3, 0,\n",
       "        0, 0, 0, 2, 0, 0],\n",
       "       [0, 0, 0, 1, 0, 0, 0, 0, 0, 0, 0, 0, 0, 0, 0, 0, 0, 2, 0, 0, 0, 0,\n",
       "        0, 0, 0, 0, 0, 0],\n",
       "       [0, 0, 0, 0, 0, 0, 0, 0, 0, 0, 0, 0, 2, 0, 0, 0, 0, 0, 0, 0, 0, 1,\n",
       "        0, 0, 0, 0, 0, 0],\n",
       "       [0, 3, 1, 0, 0, 0, 0, 0, 0, 0, 0, 0, 0, 0, 0, 0, 0, 2, 0, 0, 0, 4,\n",
       "        0, 0, 0, 0, 0, 0],\n",
       "       [0, 0, 0, 0, 0, 0, 0, 0, 2, 0, 0, 1, 0, 0, 0, 0, 0, 0, 0, 0, 0, 0,\n",
       "        0, 0, 0, 0, 0, 0],\n",
       "       [0, 0, 0, 0, 0, 0, 0, 0, 1, 0, 0, 0, 0, 0, 0, 0, 0, 0, 0, 0, 0, 0,\n",
       "        2, 0, 0, 0, 0, 0],\n",
       "       [0, 0, 0, 0, 0, 0, 0, 0, 0, 0, 0, 0, 0, 0, 0, 0, 0, 0, 0, 0, 0, 0,\n",
       "        1, 2, 0, 0, 0, 0],\n",
       "       [0, 0, 0, 0, 0, 0, 0, 0, 0, 0, 0, 0, 0, 0, 0, 0, 0, 0, 0, 0, 0, 0,\n",
       "        0, 0, 2, 0, 0, 1],\n",
       "       [0, 0, 0, 0, 0, 0, 0, 2, 0, 0, 0, 0, 0, 0, 0, 0, 0, 0, 0, 0, 0, 0,\n",
       "        0, 0, 1, 0, 0, 0],\n",
       "       [0, 0, 0, 0, 0, 2, 0, 0, 0, 0, 0, 0, 0, 0, 0, 0, 0, 0, 0, 0, 0, 0,\n",
       "        0, 0, 0, 0, 1, 0],\n",
       "       [0, 0, 0, 0, 0, 0, 0, 0, 0, 0, 0, 0, 0, 0, 0, 0, 0, 0, 0, 0, 0, 0,\n",
       "        0, 1, 0, 2, 0, 0],\n",
       "       [0, 0, 0, 0, 0, 0, 0, 0, 0, 1, 0, 0, 0, 0, 0, 0, 0, 0, 0, 0, 0, 0,\n",
       "        0, 0, 0, 0, 2, 0],\n",
       "       [0, 0, 0, 0, 0, 0, 0, 0, 0, 0, 1, 0, 0, 0, 0, 0, 0, 0, 0, 0, 0, 0,\n",
       "        0, 0, 0, 0, 0, 2]], dtype=int64)"
      ]
     },
     "execution_count": 32,
     "metadata": {},
     "output_type": "execute_result"
    }
   ],
   "source": [
    "coo = coo_matrix((connection_data['data'], (connection_data['row'], connection_data['col'])), shape=connection_data['shape'])\n",
    "coo.toarray()"
   ]
  },
  {
   "cell_type": "code",
   "execution_count": 98,
   "metadata": {},
   "outputs": [],
   "source": [
    "instance_idx = connection_data['row']\n",
    "net_idx = connection_data['col']\n",
    "num_instances = len(node_features)\n",
    "num_nets = len(net_features)\n",
    "net_idx += num_instances"
   ]
  },
  {
   "cell_type": "code",
   "execution_count": null,
   "metadata": {},
   "outputs": [],
   "source": [
    "v1 = torch.unsqueeze(torch.Tensor(np.concatenate([instance_idx, net_idx], axis = 0)).long(), dim = 1)\n",
    "v2 = torch.unsqueeze(torch.Tensor(np.concatenate([net_idx, instance_idx], axis = 0)).long(), dim = 1)\n",
    "undir_edge_index = torch.transpose(torch.cat([v1, v2], dim = 1), 0, 1)"
   ]
  },
  {
   "cell_type": "code",
   "execution_count": 100,
   "metadata": {},
   "outputs": [
    {
     "data": {
      "text/plain": [
       "tensor([[ 0,  7,  9, 10, 13, 13,  6, 11,  5,  1,  6, 19,  1,  2,  3,  0,  2,  8,\n",
       "          4, 18, 15, 14,  5, 21,  2, 22,  3, 14,  1, 12,  0,  1,  2,  3,  0,  7,\n",
       "          6,  5,  6,  9,  4,  9,  8, 13, 11,  3,  9,  2,  7,  1, 10, 12, 13, 16,\n",
       "         15, 20, 16, 18, 17,  3, 10,  8,  4, 20, 19, 21, 17, 22, 23, 24, 24, 24,\n",
       "         24, 25, 26, 26, 26, 27, 28, 28, 29, 29, 29, 29, 30, 30, 30, 30, 31, 31,\n",
       "         32, 32, 32, 33, 33, 34, 34, 35, 35, 36, 36, 36, 36, 37, 37, 38, 38, 38,\n",
       "         38, 39, 39, 40, 40, 41, 41, 42, 42, 43, 43, 44, 44, 45, 45, 46, 46, 47,\n",
       "         47, 48, 48, 48, 48, 48, 49, 49, 50, 50],\n",
       "        [23, 24, 24, 24, 24, 25, 26, 26, 26, 27, 28, 28, 29, 29, 29, 29, 30, 30,\n",
       "         30, 30, 31, 31, 32, 32, 32, 33, 33, 34, 34, 35, 35, 36, 36, 36, 36, 37,\n",
       "         37, 38, 38, 38, 38, 39, 39, 40, 40, 41, 41, 42, 42, 43, 43, 44, 44, 45,\n",
       "         45, 46, 46, 47, 47, 48, 48, 48, 48, 48, 49, 49, 50, 50,  0,  7,  9, 10,\n",
       "         13, 13,  6, 11,  5,  1,  6, 19,  1,  2,  3,  0,  2,  8,  4, 18, 15, 14,\n",
       "          5, 21,  2, 22,  3, 14,  1, 12,  0,  1,  2,  3,  0,  7,  6,  5,  6,  9,\n",
       "          4,  9,  8, 13, 11,  3,  9,  2,  7,  1, 10, 12, 13, 16, 15, 20, 16, 18,\n",
       "         17,  3, 10,  8,  4, 20, 19, 21, 17, 22]])"
      ]
     },
     "execution_count": 100,
     "metadata": {},
     "output_type": "execute_result"
    }
   ],
   "source": [
    "undir_edge_index"
   ]
  },
  {
   "cell_type": "code",
   "execution_count": 156,
   "metadata": {},
   "outputs": [],
   "source": [
    "L = to_scipy_sparse_matrix(\n",
    "    *get_laplacian(undir_edge_index, normalization = \"sym\", num_nodes = num_instances + num_nets)\n",
    ")\n",
    "evals, evects = eigsh(L, k = 10, which='SM')"
   ]
  },
  {
   "cell_type": "code",
   "execution_count": 157,
   "metadata": {},
   "outputs": [
    {
     "data": {
      "text/plain": [
       "array([1.4975740e-07, 5.1986638e-02, 7.6044492e-02, 1.0287300e-01,\n",
       "       1.4195484e-01, 1.6148876e-01, 2.0181537e-01, 2.6565453e-01,\n",
       "       2.9000196e-01, 3.1038645e-01], dtype=float32)"
      ]
     },
     "execution_count": 157,
     "metadata": {},
     "output_type": "execute_result"
    }
   ],
   "source": [
    "evals"
   ]
  },
  {
   "cell_type": "code",
   "execution_count": 158,
   "metadata": {},
   "outputs": [
    {
     "data": {
      "text/plain": [
       "array([[ 1.71498626e-01,  8.89742374e-03,  1.86486226e-02,\n",
       "        -2.65892595e-01, -2.10597426e-01, -8.39670748e-02,\n",
       "        -2.55198598e-01,  3.67872939e-02,  2.55594134e-01,\n",
       "        -1.66297201e-02],\n",
       "       [ 1.91741243e-01, -1.01603977e-01,  1.39842369e-02,\n",
       "        -1.60936385e-01, -3.13158602e-01, -1.24325454e-02,\n",
       "         1.52744502e-01, -8.00782368e-02, -1.06439620e-01,\n",
       "         1.56776801e-01],\n",
       "       [ 1.91741258e-01,  4.83848006e-02,  1.72584243e-02,\n",
       "        -1.39901042e-02, -1.64713919e-01,  6.27375841e-02,\n",
       "        -3.16698775e-02,  1.03120103e-01,  1.37156695e-01,\n",
       "        -3.59010696e-02],\n",
       "       [ 1.91741213e-01, -3.27493995e-03,  1.20259047e-01,\n",
       "        -7.29830116e-02, -1.20125771e-01,  1.04995415e-01,\n",
       "        -5.26333153e-02, -2.38567621e-01, -1.42986402e-02,\n",
       "         5.07383198e-02],\n",
       "       [ 1.48522153e-01,  3.03359553e-02,  3.02814133e-02,\n",
       "         5.39563186e-02,  1.90207623e-02,  1.90098017e-01,\n",
       "         1.43464655e-02,  1.39325961e-01,  1.08263418e-02,\n",
       "         7.92015046e-02],\n",
       "       [ 1.48522094e-01,  1.12936184e-01, -1.03390530e-01,\n",
       "         1.23675376e-01,  1.24634653e-02,  3.03276628e-03,\n",
       "         6.37489334e-02,  1.62657350e-03,  2.37000376e-01,\n",
       "         2.05943942e-01],\n",
       "       [ 1.71498671e-01,  1.48592681e-01, -1.53177172e-01,\n",
       "         1.80058032e-01,  3.94176468e-02, -1.80632025e-02,\n",
       "         1.04692079e-01, -8.44024271e-02,  2.39671171e-01,\n",
       "        -1.17467970e-01],\n",
       "       [ 1.48522034e-01,  8.39696079e-02, -7.14018643e-02,\n",
       "        -2.86336988e-04,  3.71439829e-02,  8.46242607e-02,\n",
       "         1.33103460e-01, -5.34102246e-02,  9.53945071e-02,\n",
       "        -4.85947430e-01],\n",
       "       [ 1.48522139e-01,  1.27130635e-02,  6.11218214e-02,\n",
       "         2.41072401e-02,  2.12099776e-02,  2.50175834e-01,\n",
       "         4.87984717e-03,  1.81244403e-01, -1.14678405e-01,\n",
       "         5.11520207e-02],\n",
       "       [ 1.71498567e-01,  6.52090013e-02, -1.39350593e-02,\n",
       "        -3.38602066e-03,  4.91234213e-02,  2.12494150e-01,\n",
       "         1.00027017e-01, -2.69846544e-02, -8.59728530e-02,\n",
       "        -9.11770910e-02],\n",
       "       [ 1.48522079e-01, -4.34657838e-03, -6.28588162e-03,\n",
       "        -6.82866499e-02, -7.57623371e-03,  1.61937982e-01,\n",
       "         7.41837174e-02, -6.47009462e-02, -2.31625289e-01,\n",
       "        -3.25492620e-02],\n",
       "       [ 1.21267818e-01,  1.11097902e-01, -1.28394186e-01,\n",
       "        -1.78290755e-02,  2.07873434e-01, -9.22188908e-02,\n",
       "         1.49966702e-01, -8.61035585e-02,  1.74948424e-01,\n",
       "         3.34752679e-01],\n",
       "       [ 1.21267878e-01,  5.57987057e-02, -5.85062355e-02,\n",
       "        -3.01717103e-01,  9.67688262e-02, -1.94692060e-01,\n",
       "        -2.41204426e-01,  1.44480512e-01, -4.45999950e-03,\n",
       "        -1.06239744e-01],\n",
       "       [ 1.71498552e-01,  1.16959818e-01, -1.35707438e-01,\n",
       "        -2.54393339e-01,  3.39917660e-01, -1.39716715e-01,\n",
       "         6.81325570e-02, -4.69756126e-03, -2.55697131e-01,\n",
       "         3.13133150e-02],\n",
       "       [ 1.21267967e-01, -2.87495822e-01, -6.37455583e-02,\n",
       "        -1.15014613e-02, -1.32647783e-01, -1.94901466e-01,\n",
       "         3.05643559e-01,  9.25945491e-02, -7.20719919e-02,\n",
       "         4.72564995e-03],\n",
       "       [ 1.21267930e-01, -3.94272387e-01, -9.90301818e-02,\n",
       "         8.77606720e-02,  7.27111995e-02, -1.50475234e-01,\n",
       "         7.10098147e-02,  6.51886910e-02,  6.61373883e-02,\n",
       "        -9.96162519e-02],\n",
       "       [ 1.21268012e-01, -3.41336250e-01, -7.63602257e-02,\n",
       "         1.18512243e-01,  2.01357126e-01,  7.26548880e-02,\n",
       "        -2.66701877e-01, -8.23558718e-02,  7.31563345e-02,\n",
       "         5.00977039e-03],\n",
       "       [ 1.21267468e-01,  2.93406248e-02,  4.09799516e-01,\n",
       "         1.20037049e-01,  1.30480111e-01, -1.98065564e-01,\n",
       "         2.81597823e-02,  9.20705795e-02,  8.73748213e-03,\n",
       "        -2.93232203e-02],\n",
       "       [ 1.21267602e-01,  2.96985507e-02,  2.36357927e-01,\n",
       "         8.57780278e-02,  6.56188875e-02,  1.15426630e-03,\n",
       "         2.47939229e-02,  3.88937026e-01,  1.88091472e-02,\n",
       "         3.11740786e-02],\n",
       "       [ 1.21267885e-01,  1.37071416e-01, -1.61788851e-01,\n",
       "         2.90073574e-01, -1.30011588e-01, -1.94637358e-01,\n",
       "        -1.67719871e-01, -1.63576677e-02, -2.47524172e-01,\n",
       "        -7.56527483e-02],\n",
       "       [ 1.21267870e-01, -1.50130898e-01, -9.00227949e-03,\n",
       "         5.67467213e-02,  1.17564239e-01,  2.09499940e-01,\n",
       "        -2.17267931e-01, -7.81225264e-02, -6.49384260e-02,\n",
       "         9.91268605e-02],\n",
       "       [ 1.21267721e-01,  1.13546908e-01, -1.20582215e-01,\n",
       "         2.26379767e-01, -1.50729254e-01, -1.45351216e-01,\n",
       "        -1.66005731e-01,  5.71124107e-02, -1.73529446e-01,\n",
       "         9.04562622e-02],\n",
       "       [ 1.21267468e-01,  1.70972496e-02,  3.43416870e-01,\n",
       "         6.05885834e-02,  5.76806590e-02, -1.62063390e-01,\n",
       "        -9.35110450e-03, -3.74477148e-01, -1.86658464e-02,\n",
       "        -2.83083320e-02],\n",
       "       [ 8.57493207e-02,  4.69264621e-03,  1.00917267e-02,\n",
       "        -1.48191348e-01, -1.22719347e-01, -5.00690937e-02,\n",
       "        -1.59861967e-01,  2.50477046e-02,  1.79996327e-01,\n",
       "        -1.20573044e-02],\n",
       "       [ 1.71498537e-01,  7.22852424e-02, -6.47619441e-02,\n",
       "        -9.38999429e-02,  1.23298630e-01,  1.06582627e-01,\n",
       "         1.27637744e-01, -5.72160780e-02, -1.75696164e-01,\n",
       "        -2.38746792e-01],\n",
       "       [ 8.57492834e-02,  6.16867989e-02, -7.34382719e-02,\n",
       "        -1.41782194e-01,  1.98076949e-01, -8.33124220e-02,\n",
       "         4.26796079e-02, -3.19853798e-03, -1.80069014e-01,\n",
       "         2.27034632e-02],\n",
       "       [ 1.48522153e-01,  1.32799774e-01, -1.41888425e-01,\n",
       "         9.57776606e-02,  1.17007047e-01, -4.99118418e-02,\n",
       "         1.41189545e-01, -8.03086385e-02,  3.09310019e-01,\n",
       "         2.48545021e-01],\n",
       "       [ 8.57492015e-02, -4.79304679e-02,  6.76869974e-03,\n",
       "        -8.02260190e-02, -1.63218424e-01, -6.63081184e-03,\n",
       "         8.55809376e-02, -4.87672687e-02, -6.70441389e-02,\n",
       "         1.01669483e-01],\n",
       "       [ 1.21267863e-01,  1.27710462e-01, -1.46165773e-01,\n",
       "         2.32628077e-01, -5.95184714e-02, -1.23677537e-01,\n",
       "        -5.86902499e-02, -5.17734289e-02, -5.49657494e-02,\n",
       "        -1.15075409e-01],\n",
       "       [ 1.71498567e-01, -1.09788692e-02,  4.17108834e-02,\n",
       "        -1.35886520e-01, -2.17198193e-01,  1.63796432e-02,\n",
       "        -6.07575253e-02, -5.31033650e-02,  9.51690078e-02,\n",
       "         4.96171229e-02],\n",
       "       [ 1.71498552e-01,  3.55969965e-02,  1.23177052e-01,\n",
       "         5.54366931e-02, -2.35167705e-03,  1.68790579e-01,\n",
       "         9.06381011e-03,  3.44672918e-01,  1.03376806e-02,\n",
       "         5.89080527e-02],\n",
       "       [ 1.21267907e-01, -3.59577239e-01, -8.80863369e-02,\n",
       "         4.25019190e-02, -3.49262655e-02, -2.05946401e-01,\n",
       "         2.35943690e-01,  1.07431129e-01, -4.17929888e-03,\n",
       "        -6.87997937e-02],\n",
       "       [ 1.48522064e-01,  1.01785183e-01, -8.57561529e-02,\n",
       "         1.44942641e-01, -1.16438523e-01, -5.02434894e-02,\n",
       "        -6.85292184e-02,  6.87465221e-02,  6.13674670e-02,\n",
       "         1.39653593e-01],\n",
       "       [ 1.21267609e-01,  7.92492926e-03,  2.26999745e-01,\n",
       "         8.04239884e-03, -1.06599871e-02, -5.70406616e-02,\n",
       "        -2.67101824e-02, -3.57706845e-01, -1.95134692e-02,\n",
       "         2.74172425e-03],\n",
       "       [ 1.21267915e-01, -1.85522467e-01, -2.97098011e-02,\n",
       "        -6.31384552e-02, -1.92709401e-01, -1.20907493e-01,\n",
       "         2.51976401e-01,  2.85619982e-02, -9.81624722e-02,\n",
       "         7.53175020e-02],\n",
       "       [ 1.21267863e-01,  3.27474326e-02, -2.45248526e-02,\n",
       "        -2.72944480e-01, -3.03864479e-02, -1.51498079e-01,\n",
       "        -2.64134973e-01,  1.16085008e-01,  1.24135703e-01,\n",
       "        -8.55542347e-02],\n",
       "       [ 1.71498522e-01, -1.09788235e-02,  4.17109095e-02,\n",
       "        -1.35886490e-01, -2.17198223e-01,  1.63796432e-02,\n",
       "        -6.07575029e-02, -5.31034097e-02,  9.51690078e-02,\n",
       "         4.96171080e-02],\n",
       "       [ 1.21267840e-01,  9.15767252e-02, -9.01623219e-02,\n",
       "         7.08297640e-02,  3.39144543e-02,  3.35849598e-02,\n",
       "         1.14451520e-01, -7.03283995e-02,  1.74199268e-01,\n",
       "        -3.47902626e-01],\n",
       "       [ 1.71498582e-01,  1.00008614e-01, -6.80582523e-02,\n",
       "         1.06390603e-01,  3.63896713e-02,  1.24458477e-01,\n",
       "         9.23644900e-02,  1.74887031e-02,  1.54882059e-01,\n",
       "         4.37247306e-02],\n",
       "       [ 1.21267766e-01,  2.97938325e-02,  2.16743182e-02,\n",
       "         9.63584334e-03,  3.03325020e-02,  2.11400822e-01,\n",
       "         4.68026400e-02,  8.77682567e-02, -1.08751342e-01,\n",
       "        -1.64631754e-02],\n",
       "       [ 1.21267766e-01,  1.02214202e-01, -1.21409476e-01,\n",
       "        -1.10191934e-01,  2.61193663e-01, -1.13900423e-01,\n",
       "         1.24121398e-01, -6.08877242e-02, -4.12460044e-03,\n",
       "         2.58763820e-01],\n",
       "       [ 1.21267803e-01,  2.32266821e-02,  3.58269140e-02,\n",
       "        -2.70601083e-02, -2.40306053e-02,  1.29193887e-01,\n",
       "         2.34541818e-02, -1.15725160e-01, -4.91798148e-02,\n",
       "        -2.34784186e-02],\n",
       "       [ 1.21267661e-01,  5.22998944e-02, -2.56420225e-02,\n",
       "        -5.06167859e-03, -4.30317409e-02,  6.48614764e-02,\n",
       "         5.55314794e-02,  1.47135053e-02,  1.15940414e-01,\n",
       "        -3.04141432e-01],\n",
       "       [ 1.21267796e-01, -3.57637182e-02,  2.00870819e-03,\n",
       "        -8.78030062e-02, -1.19017467e-01,  7.41545111e-02,\n",
       "         9.84576792e-02, -7.04531670e-02, -1.80591747e-01,\n",
       "         5.26221767e-02],\n",
       "       [ 1.21267863e-01,  7.30484053e-02, -8.35895091e-02,\n",
       "        -2.68412530e-01,  1.96450621e-01, -1.75004706e-01,\n",
       "        -1.20916575e-01,  9.61119384e-02, -1.30468905e-01,\n",
       "        -6.09746426e-02],\n",
       "       [ 1.21267945e-01, -3.87973845e-01, -9.49129760e-02,\n",
       "         1.14963114e-01,  1.59705043e-01, -4.64038402e-02,\n",
       "        -1.22585833e-01, -1.16888452e-02,  9.80944782e-02,\n",
       "        -6.85938150e-02],\n",
       "       [ 1.21267848e-01, -2.59208918e-01, -4.61940765e-02,\n",
       "         9.76778418e-02,  1.85841888e-01,  1.68247536e-01,\n",
       "        -3.03169072e-01, -1.09266400e-01,  5.78727573e-03,\n",
       "         7.55035356e-02],\n",
       "       [ 1.21267468e-01,  3.11384499e-02,  3.49669099e-01,\n",
       "         1.14707842e-01,  1.14270650e-01, -1.17417149e-01,\n",
       "         3.31713259e-02,  3.27507704e-01,  1.93990357e-02,\n",
       "         1.34192407e-03],\n",
       "       [ 1.91741362e-01, -4.02289666e-02,  4.67362739e-02,\n",
       "         6.54603913e-03,  2.51540802e-02,  2.89488435e-01,\n",
       "        -6.90497756e-02, -8.65106285e-03, -1.54950947e-01,\n",
       "         9.67893451e-02],\n",
       "       [ 1.21267736e-01,  1.32180810e-01, -1.52805626e-01,\n",
       "         2.87837446e-01, -1.63593188e-01, -2.02733606e-01,\n",
       "        -2.09052846e-01,  2.77489591e-02, -2.96517432e-01,\n",
       "         1.07332040e-02],\n",
       "       [ 1.21267349e-01,  2.44920552e-02,  4.07604218e-01,\n",
       "         1.00668862e-01,  1.09645016e-01, -2.14743048e-01,\n",
       "         1.17821991e-02, -1.92284673e-01, -6.99192099e-03,\n",
       "        -4.17853817e-02]], dtype=float32)"
      ]
     },
     "execution_count": 158,
     "metadata": {},
     "output_type": "execute_result"
    }
   ],
   "source": [
    "evects"
   ]
  }
 ],
 "metadata": {
  "kernelspec": {
   "display_name": "capstone",
   "language": "python",
   "name": "python3"
  },
  "language_info": {
   "codemirror_mode": {
    "name": "ipython",
    "version": 3
   },
   "file_extension": ".py",
   "mimetype": "text/x-python",
   "name": "python",
   "nbconvert_exporter": "python",
   "pygments_lexer": "ipython3",
   "version": "3.8.8"
  }
 },
 "nbformat": 4,
 "nbformat_minor": 2
}
