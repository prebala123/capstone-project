{
 "cells": [
  {
   "cell_type": "code",
   "execution_count": 1,
   "metadata": {},
   "outputs": [
    {
     "name": "stderr",
     "output_type": "stream",
     "text": [
      "c:\\Users\\rebal\\capstone-project\\capstone\\lib\\site-packages\\tqdm\\auto.py:21: TqdmWarning: IProgress not found. Please update jupyter and ipywidgets. See https://ipywidgets.readthedocs.io/en/stable/user_install.html\n",
      "  from .autonotebook import tqdm as notebook_tqdm\n"
     ]
    }
   ],
   "source": [
    "import numpy as np\n",
    "import torch\n",
    "import torch.nn as nn"
   ]
  },
  {
   "cell_type": "code",
   "execution_count": 2,
   "metadata": {},
   "outputs": [],
   "source": [
    "class DEHNNLayer(nn.Module):\n",
    "    def __init__(self, node_in_features, edge_in_features, vn_features, hidden_features):\n",
    "        super(DEHNNLayer, self).__init__()\n",
    "        self.node_mlp1 = nn.Sequential(nn.Linear(edge_in_features, hidden_features),\n",
    "                                       nn.ReLU(),\n",
    "                                       nn.Linear(hidden_features, edge_in_features))\n",
    "        \n",
    "        self.edge_mlp2 = nn.Sequential(nn.Linear(node_in_features, hidden_features),\n",
    "                                       nn.ReLU(),\n",
    "                                       nn.Linear(hidden_features, node_in_features))\n",
    "        \n",
    "        self.edge_mlp3 = nn.Sequential(nn.Linear(2 * node_in_features, hidden_features),\n",
    "                                       nn.ReLU(),\n",
    "                                       nn.Linear(hidden_features, 2 * node_in_features))\n",
    "\n",
    "        self.node_to_virtual_mlp = nn.Sequential(nn.Linear(node_in_features, hidden_features),\n",
    "                                       nn.ReLU(),\n",
    "                                       nn.Linear(hidden_features, vn_features))\n",
    "        \n",
    "        self.virtual_to_higher_virtual_mlp = nn.Sequential(nn.Linear(vn_features, hidden_features),\n",
    "                                       nn.ReLU(),\n",
    "                                       nn.Linear(hidden_features, vn_features))\n",
    "        \n",
    "        self.higher_virtual_to_virtual_mlp = nn.Sequential(nn.Linear(vn_features, hidden_features),\n",
    "                                       nn.ReLU(),\n",
    "                                       nn.Linear(hidden_features, vn_features))\n",
    "        \n",
    "        self.virtual_to_node_mlp = nn.Sequential(nn.Linear(vn_features, hidden_features),\n",
    "                                       nn.ReLU(),\n",
    "                                       nn.Linear(hidden_features, edge_in_features))\n",
    "\n",
    "\n",
    "    def forward(self, node_features, edge_features, vn_features, super_vn_features, hypergraph):\n",
    "\n",
    "        # Node Update\n",
    "        transformed_edge_features = self.node_mlp1(edge_features)\n",
    "        updated_node_features = torch.matmul(hypergraph.incidence_matrix, transformed_edge_features)\n",
    "\n",
    "        # Edge Update\n",
    "        transformed_node_features = self.edge_mlp2(node_features)\n",
    "        driver_features = torch.matmul(hypergraph.driver_matrix, transformed_node_features)\n",
    "        sink_features = torch.matmul(hypergraph.sink_matrix, transformed_node_features)\n",
    "        updated_edge_features = torch.cat([driver_features, sink_features], dim=1)\n",
    "        updated_edge_features = self.edge_mlp3(updated_edge_features)\n",
    "        \n",
    "        # First Level VN Update\n",
    "        node_to_virtual_features = self.node_to_virtual_mlp(node_features)\n",
    "        updated_vn_features = torch.matmul(hypergraph.vn_matrix, node_to_virtual_features)\n",
    "        updated_vn_features += self.higher_virtual_to_virtual_mlp(super_vn_features)\n",
    "\n",
    "        # Top Level VN Update\n",
    "        virtual_to_higher_virtual_features = self.virtual_to_higher_virtual_mlp(vn_features)\n",
    "        updated_super_vn_features = torch.sum(virtual_to_higher_virtual_features, dim=0)\n",
    "\n",
    "        # VN to node update\n",
    "        virtual_to_node_features = self.virtual_to_node_mlp(vn_features)\n",
    "        propagated_features = torch.matmul(hypergraph.vn_matrix.T, virtual_to_node_features)\n",
    "        updated_node_features += propagated_features\n",
    "\n",
    "        return updated_node_features, updated_edge_features, updated_vn_features, updated_super_vn_features\n",
    "\n",
    "\n",
    "class DEHNN(nn.Module):\n",
    "    def __init__(self, num_layers, node_in_features, edge_in_features, hidden_features=24):\n",
    "        super(DEHNN, self).__init__()\n",
    "        self.num_layers = num_layers\n",
    "        self.layers = nn.ModuleList()\n",
    "        \n",
    "        # Create multiple layers for DEHNN\n",
    "        vn_in_features = node_in_features\n",
    "        for i in range(num_layers):\n",
    "            self.layers.append(DEHNNLayer(node_in_features, edge_in_features, vn_in_features, hidden_features))\n",
    "            node_in_features, edge_in_features = edge_in_features, node_in_features\n",
    "            edge_in_features *= 2\n",
    "\n",
    "        self.output_layer = nn.Sequential(nn.Linear(node_in_features, hidden_features),\n",
    "                                       nn.ReLU(),\n",
    "                                       nn.Linear(hidden_features, 1))\n",
    "\n",
    "    def forward(self, node_features, edge_features, vn_features, super_vn_features, hypergraph):\n",
    "        # Pass through each layer\n",
    "        for layer in self.layers:\n",
    "            node_features, edge_features, vn_features, super_vn_features = layer(node_features, edge_features, vn_features, super_vn_features, hypergraph)\n",
    "        \n",
    "        # Output prediction for nodes\n",
    "        output = self.output_layer(node_features)\n",
    "        return output[:,0]\n",
    "\n",
    "\n",
    "# Example hypergraph representation class (simplified)\n",
    "class Hypergraph:\n",
    "    def __init__(self, incidence_matrix, driver_matrix, sink_matrix, vn_matrix):\n",
    "        self.incidence_matrix = incidence_matrix\n",
    "        self.driver_matrix = driver_matrix\n",
    "        self.sink_matrix = sink_matrix\n",
    "        self.vn_matrix = vn_matrix\n"
   ]
  },
  {
   "cell_type": "code",
   "execution_count": 100,
   "metadata": {},
   "outputs": [],
   "source": [
    "device = torch.device('cuda' if torch.cuda.is_available() else 'cpu')\n",
    "\n",
    "clean_data_dir = '../../data/chips/clean_data/'\n",
    "\n",
    "n_samples = 13\n",
    "train_idx = [1, 2, 3, 4, 5, 6, 7, 8]\n",
    "train_data = []\n",
    "valid_idx = [11]\n",
    "valid_data = []\n",
    "test_idx = [12]\n",
    "test_data = []\n",
    "\n",
    "for i in range(1, n_samples+1):\n",
    "    connectivity = np.load(clean_data_dir + str(i) + '.connectivity.npz')\n",
    "    incidence_matrix = torch.sparse_coo_tensor(torch.tensor(np.array([connectivity['row'], connectivity['col']])), torch.ones(connectivity['dirs'].shape), dtype=torch.float).to(device)\n",
    "\n",
    "    drivers = np.load(clean_data_dir + str(i) + '.drivers.npz')\n",
    "    driver_matrix = torch.sparse_coo_tensor(torch.tensor(np.array([drivers['col'], drivers['row']])), torch.ones(drivers['data'].shape), dtype=torch.float).to(device)\n",
    "\n",
    "    sinks = np.load(clean_data_dir + str(i) + '.sinks.npz')\n",
    "    sink_matrix = torch.sparse_coo_tensor(torch.tensor(np.array([sinks['col'], sinks['row']])), torch.ones(sinks['data'].shape), dtype=torch.float).to(device)\n",
    "\n",
    "    features = np.load(clean_data_dir + str(i) + '.features.npz')\n",
    "    node_features = features['node_features']\n",
    "    edge_features = features['net_features']\n",
    "    # congestion = features['congestion']\n",
    "    demand = features['demand']\n",
    "\n",
    "    node_features = torch.tensor(node_features, dtype=torch.float).to(device)\n",
    "    edge_features = torch.tensor(edge_features, dtype=torch.float).to(device)\n",
    "    # congestion = torch.tensor(congestion).to(device)\n",
    "    demand = torch.tensor(demand, dtype=torch.float).to(device)\n",
    "\n",
    "    num_nodes, num_node_features = node_features.shape\n",
    "    num_edges, num_edge_features = edge_features.shape\n",
    "\n",
    "    virtual_nodes = np.load(clean_data_dir + str(i) + '.virtual_nodes.npz')\n",
    "    vn_rows = virtual_nodes['row']\n",
    "    vn_cols = virtual_nodes['col']\n",
    "    vn_matrix = torch.sparse_coo_tensor(torch.tensor(np.array([vn_rows, vn_cols])), torch.ones(len(vn_rows)), dtype=torch.float).to(device)\n",
    "\n",
    "    num_vn = vn_matrix.shape[0]\n",
    "    num_vn_features = num_node_features\n",
    "    vn_features = torch.zeros((num_vn, num_vn_features), dtype=torch.float).to(device)\n",
    "    super_vn_features = torch.zeros(num_vn_features, dtype=torch.float).to(device)\n",
    "\n",
    "    hypergraph = Hypergraph(incidence_matrix, driver_matrix, sink_matrix, vn_matrix)\n",
    "\n",
    "    if i in train_idx:\n",
    "        train_data.append((node_features, edge_features, vn_features, super_vn_features, hypergraph, demand))\n",
    "    elif i in valid_idx:\n",
    "        valid_data.append((node_features, edge_features, vn_features, super_vn_features, hypergraph, demand))\n",
    "    elif i in test_idx:\n",
    "        test_data.append((node_features, edge_features, vn_features, super_vn_features, hypergraph, demand))"
   ]
  },
  {
   "cell_type": "code",
   "execution_count": 105,
   "metadata": {},
   "outputs": [
    {
     "name": "stdout",
     "output_type": "stream",
     "text": [
      "Epoch [10/200], Training Loss: 6.7841, Validation Loss: 6.1420\n",
      "Epoch [20/200], Training Loss: 7.9707, Validation Loss: 6.9138\n",
      "Epoch [30/200], Training Loss: 7.6455, Validation Loss: 6.6898\n",
      "Epoch [40/200], Training Loss: 9.0844, Validation Loss: 8.1927\n",
      "Epoch [50/200], Training Loss: 9.4359, Validation Loss: 8.8962\n",
      "Epoch [60/200], Training Loss: 6.2220, Validation Loss: 5.6290\n",
      "Epoch [70/200], Training Loss: 6.7168, Validation Loss: 5.6958\n",
      "Epoch [80/200], Training Loss: 8.7045, Validation Loss: 6.8922\n",
      "Epoch [90/200], Training Loss: 8.9685, Validation Loss: 7.6988\n",
      "Epoch [100/200], Training Loss: 7.2639, Validation Loss: 6.5491\n",
      "Epoch [110/200], Training Loss: 6.3936, Validation Loss: 5.7060\n",
      "Epoch [120/200], Training Loss: 6.1860, Validation Loss: 5.5215\n",
      "Epoch [130/200], Training Loss: 6.5615, Validation Loss: 5.6087\n",
      "Epoch [140/200], Training Loss: 7.4085, Validation Loss: 5.8965\n",
      "Epoch [150/200], Training Loss: 8.6132, Validation Loss: 6.9382\n",
      "Epoch [160/200], Training Loss: 8.8747, Validation Loss: 7.4651\n",
      "Epoch [170/200], Training Loss: 7.8089, Validation Loss: 7.1207\n",
      "Epoch [180/200], Training Loss: 6.8051, Validation Loss: 6.3305\n",
      "Epoch [190/200], Training Loss: 6.0715, Validation Loss: 5.5062\n",
      "Epoch [200/200], Training Loss: 6.0429, Validation Loss: 5.4706\n"
     ]
    }
   ],
   "source": [
    "# Initialize DE-HNN model\n",
    "model = DEHNN(num_layers=4, node_in_features=num_node_features, edge_in_features=num_edge_features).to(device)\n",
    "epochs = 200\n",
    "\n",
    "# Optimizer and Loss Function\n",
    "optimizer = torch.optim.Adam(model.parameters(), lr=0.0001)\n",
    "criterion = nn.L1Loss()\n",
    "\n",
    "# Training Loop (example)\n",
    "for epoch in range(epochs):\n",
    "    model.train()\n",
    "    optimizer.zero_grad()\n",
    "    \n",
    "    for idx in range(len(train_data)):\n",
    "        node_features, edge_features, vn_features, super_vn_features, hypergraph, congestion = train_data[idx]\n",
    "        # Forward pass\n",
    "\n",
    "        output = model(node_features, edge_features, vn_features, super_vn_features, hypergraph)\n",
    "        # output = output[:,0]\n",
    "        # print(output)\n",
    "        \n",
    "        # Dummy target for illustration (binary labels for each node: 0 for not congested, 1 for congested)\n",
    "        target = congestion\n",
    "        \n",
    "        # print(target)\n",
    "        # Compute loss\n",
    "        loss = criterion(output, target)\n",
    "        \n",
    "        # Backward pass\n",
    "        loss.backward()\n",
    "        optimizer.step()\n",
    "\n",
    "    # Print loss\n",
    "    if epoch % 10 == 9:\n",
    "        model.eval()\n",
    "        node_features, edge_features, vn_features, super_vn_features, hypergraph, congestion = valid_data[0]\n",
    "        output = model(node_features, edge_features, vn_features, super_vn_features, hypergraph)\n",
    "        target = congestion\n",
    "        valid_loss = criterion(output, target)\n",
    "        print(f'Epoch [{epoch+1}/{epochs}], Training Loss: {loss.item():.4f}, Validation Loss: {valid_loss.item():.4f}')"
   ]
  },
  {
   "cell_type": "code",
   "execution_count": 106,
   "metadata": {},
   "outputs": [
    {
     "data": {
      "text/plain": [
       "7.9783225"
      ]
     },
     "execution_count": 106,
     "metadata": {},
     "output_type": "execute_result"
    }
   ],
   "source": [
    "node_features, edge_features, vn_features, super_vn_features, hypergraph, congestion = test_data[0]\n",
    "output = model(node_features, edge_features, vn_features, super_vn_features, hypergraph)\n",
    "target = congestion\n",
    "real = target.detach().cpu().numpy()\n",
    "pred = output.detach().cpu().numpy()\n",
    "\n",
    "# lst = [0, 0, 0, 0]\n",
    "# for i, j in zip(pred, real):\n",
    "#     if i >= 0.9 and j >= 0.9:\n",
    "#         lst[0] += 1\n",
    "#     elif i < 0.9 and j >= 0.9:\n",
    "#         lst[1] += 1\n",
    "#     elif i >= 0.9 and j < 0.9:\n",
    "#         lst[2] += 1\n",
    "#     else:\n",
    "#         lst[3] += 1\n",
    "# total = sum(lst)\n",
    "# print(lst)\n",
    "# print(f'Accuracy: {(lst[0] + lst[3]) / total}')\n",
    "# print(f'Precision: {lst[0] / (lst[0] + lst[1])}')\n",
    "# print(f'Recall: {lst[0] / (lst[0] + lst[2])}')\n",
    "\n",
    "np.mean(np.abs(real - pred))"
   ]
  },
  {
   "cell_type": "code",
   "execution_count": 121,
   "metadata": {},
   "outputs": [
    {
     "data": {
      "text/plain": [
       "array([19.873577, 20.288546, 20.128115, ..., 24.603819, 26.225748,\n",
       "       25.199501], dtype=float32)"
      ]
     },
     "execution_count": 121,
     "metadata": {},
     "output_type": "execute_result"
    }
   ],
   "source": [
    "pred"
   ]
  },
  {
   "cell_type": "code",
   "execution_count": 122,
   "metadata": {},
   "outputs": [
    {
     "data": {
      "text/plain": [
       "array([40., 41., 35., ..., 32.,  5.,  9.], dtype=float32)"
      ]
     },
     "execution_count": 122,
     "metadata": {},
     "output_type": "execute_result"
    }
   ],
   "source": [
    "real"
   ]
  },
  {
   "cell_type": "code",
   "execution_count": 123,
   "metadata": {},
   "outputs": [
    {
     "data": {
      "text/plain": [
       "array([ 20.126423,  20.711454,  14.871885, ...,   7.396181, -21.225748,\n",
       "       -16.199501], dtype=float32)"
      ]
     },
     "execution_count": 123,
     "metadata": {},
     "output_type": "execute_result"
    }
   ],
   "source": [
    "(real - pred)"
   ]
  },
  {
   "cell_type": "code",
   "execution_count": null,
   "metadata": {},
   "outputs": [],
   "source": []
  }
 ],
 "metadata": {
  "kernelspec": {
   "display_name": "capstone",
   "language": "python",
   "name": "python3"
  },
  "language_info": {
   "codemirror_mode": {
    "name": "ipython",
    "version": 3
   },
   "file_extension": ".py",
   "mimetype": "text/x-python",
   "name": "python",
   "nbconvert_exporter": "python",
   "pygments_lexer": "ipython3",
   "version": "3.8.8"
  }
 },
 "nbformat": 4,
 "nbformat_minor": 2
}
