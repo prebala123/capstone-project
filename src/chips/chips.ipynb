{
 "cells": [
  {
   "cell_type": "code",
   "execution_count": 1,
   "metadata": {},
   "outputs": [],
   "source": [
    "import os\n",
    "import numpy as np\n",
    "import pickle\n",
    "import torch\n",
    "import torch.nn\n",
    "import sys\n",
    "\n",
    "from scipy.sparse.linalg import eigsh\n",
    "from numpy.linalg import eigvals\n",
    "from torch_geometric.utils import (get_laplacian, to_scipy_sparse_matrix, to_undirected, to_dense_adj)\n",
    "from collections import defaultdict\n",
    "\n",
    "from sklearn.model_selection import train_test_split\n",
    "\n",
    "from tqdm import tqdm"
   ]
  },
  {
   "cell_type": "code",
   "execution_count": 2,
   "metadata": {},
   "outputs": [],
   "source": [
    "path = '../../data/chips/2023-03-06_data'\n",
    "with open(path + '/0.node_features.pkl', 'rb') as f:\n",
    "    dict = pickle.load(f)"
   ]
  },
  {
   "cell_type": "code",
   "execution_count": 3,
   "metadata": {},
   "outputs": [
    {
     "data": {
      "text/plain": [
       "{'num_instances': 797938,\n",
       " 'num_nets': 821523,\n",
       " 'x_min': 1920,\n",
       " 'x_max': 7278720,\n",
       " 'y_min': 3330,\n",
       " 'y_max': 7276050,\n",
       " 'min_cell_width': np.int64(1920),\n",
       " 'max_cell_width': np.int64(19211520),\n",
       " 'min_cell_height': np.int64(13320),\n",
       " 'max_cell_height': np.int64(20601600),\n",
       " 'instance_features': array([[7.77638522e-01, 2.67399267e-01, 1.32000000e+02, 3.99800100e-04,\n",
       "         0.00000000e+00, 6.00000000e+00],\n",
       "        [6.15699208e-01, 4.91758242e-01, 3.59000000e+02, 7.99600200e-04,\n",
       "         0.00000000e+00, 6.00000000e+00],\n",
       "        [5.91820580e-01, 4.78021978e-01, 1.76000000e+02, 4.99750125e-04,\n",
       "         0.00000000e+00, 0.00000000e+00],\n",
       "        ...,\n",
       "        [7.77506596e-01, 1.34615385e-01, 6.00000000e+00, 1.59920040e-03,\n",
       "         0.00000000e+00, 6.00000000e+00],\n",
       "        [7.75593668e-01, 9.34065934e-02, 6.00000000e+00, 1.59920040e-03,\n",
       "         0.00000000e+00, 0.00000000e+00],\n",
       "        [7.76781003e-01, 5.86080586e-02, 6.00000000e+00, 1.59920040e-03,\n",
       "         0.00000000e+00, 0.00000000e+00]]),\n",
       " 'sample_name': '/data/zluo/new_data/superblue19/6/',\n",
       " 'folder': '/data/zluo/new_data/superblue1/2/',\n",
       " 'design': 'superblue1'}"
      ]
     },
     "execution_count": 3,
     "metadata": {},
     "output_type": "execute_result"
    }
   ],
   "source": [
    "dict"
   ]
  },
  {
   "cell_type": "code",
   "execution_count": 51,
   "metadata": {},
   "outputs": [
    {
     "data": {
      "text/plain": [
       "(1619461, 10)"
      ]
     },
     "execution_count": 51,
     "metadata": {},
     "output_type": "execute_result"
    }
   ],
   "source": [
    "dict['evects'].shape"
   ]
  },
  {
   "cell_type": "code",
   "execution_count": null,
   "metadata": {},
   "outputs": [],
   "source": [
    "dataset = NetlistDataset(data_dir=\"data/processed_datasets\", load_pe = True, pl = True, processed = True, load_indices = load_indices)"
   ]
  }
 ],
 "metadata": {
  "kernelspec": {
   "display_name": "capstone",
   "language": "python",
   "name": "python3"
  },
  "language_info": {
   "codemirror_mode": {
    "name": "ipython",
    "version": 3
   },
   "file_extension": ".py",
   "mimetype": "text/x-python",
   "name": "python",
   "nbconvert_exporter": "python",
   "pygments_lexer": "ipython3",
   "version": "3.12.7"
  }
 },
 "nbformat": 4,
 "nbformat_minor": 2
}
